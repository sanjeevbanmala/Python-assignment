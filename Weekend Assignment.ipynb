{
 "cells": [
  {
   "cell_type": "markdown",
   "id": "15ce2453",
   "metadata": {},
   "source": [
    "# Assignment for the Weekend: Python Assignment Part 1\n"
   ]
  },
  {
   "cell_type": "markdown",
   "id": "f8bd3b21",
   "metadata": {},
   "source": [
    "## 1. Question 1: General questions:"
   ]
  },
  {
   "cell_type": "markdown",
   "id": "d857414a",
   "metadata": {},
   "source": [
    "### a. Using Map with lambda function generates a third list with a single map statement that sums the integer elements of the same index of two given lists.\n"
   ]
  },
  {
   "cell_type": "code",
   "execution_count": 1,
   "id": "79dd6986",
   "metadata": {},
   "outputs": [
    {
     "name": "stdout",
     "output_type": "stream",
     "text": [
      "Original list:\n",
      "[100, 200, 300, 400, 500]\n",
      "[1, 10, 100, 1000, 10000]\n",
      "\n",
      "Result: after adding two list\n",
      "[101, 210, 400, 1400, 10500]\n"
     ]
    }
   ],
   "source": [
    "lst1=[100, 200, 300, 400, 500]\n",
    "lst2=[1,10,100,1000,10000]\n",
    "print(\"Original list:\")\n",
    "print(lst1)\n",
    "print(lst2)\n",
    "result = map(lambda x, y: x + y, lst1, lst2)\n",
    "print(\"\\nResult: after adding two list\")\n",
    "print(list(result))"
   ]
  },
  {
   "cell_type": "markdown",
   "id": "777d875a",
   "metadata": {},
   "source": [
    "### b. Write a function that takes a string and returns the dictionary with each character as key and its count as value.\n"
   ]
  },
  {
   "cell_type": "code",
   "execution_count": 2,
   "id": "ec6dd082",
   "metadata": {},
   "outputs": [
    {
     "name": "stdout",
     "output_type": "stream",
     "text": [
      "The count of all characters is :\n",
      " {'a': 5, 'b': 4, 'c': 3, 'd': 2, 'e': 1}\n"
     ]
    }
   ],
   "source": [
    "def myfunc(test_string):\n",
    "    all={} \n",
    "    for i in test_string:\n",
    "        if i in all:\n",
    "            all[i] += 1\n",
    "        else:\n",
    "            all[i] = 1\n",
    "    print(\"The count of all characters is :\\n \" + str(all))\n",
    "result  = myfunc(\"aaaaabbbbcccdde\")"
   ]
  },
  {
   "cell_type": "markdown",
   "id": "8b2efef5",
   "metadata": {},
   "source": [
    "### c. The dictionary  given below consists of vehicles and their weights in kilograms. Construct a list of the names of vehicles with weight below 5000 kilograms. In the same list comprehension makes the key names all uppercase. Use just a single comprehension statement to achieve it.\n"
   ]
  },
  {
   "cell_type": "code",
   "execution_count": 3,
   "id": "bfe2ad70",
   "metadata": {},
   "outputs": [
    {
     "name": "stdout",
     "output_type": "stream",
     "text": [
      "['SEDAN', 'SUV', 'PICKUP', 'MINIVAN', 'VAN', 'BICYCLE', 'MOTORCYCLE']\n"
     ]
    }
   ],
   "source": [
    "dict={\n",
    "\"Sedan\": 1500, \"SUV\": 2000, \"Pickup\": 2500, \"Minivan\": 1600, \"Van\": 2400, \"Semi\": 13600, \"Bicycle\": 7, \"Motorcycle\": 110\n",
    "}\n",
    "\n",
    "lst = [i.upper() for i in dict if dict[i]<5000]\n",
    "print(lst)"
   ]
  },
  {
   "cell_type": "markdown",
   "id": "eaf09460",
   "metadata": {},
   "source": [
    "## 2. Question 2 Create a program to create a following form inputs as CLI inputs \n",
    " "
   ]
  },
  {
   "cell_type": "code",
   "execution_count": 4,
   "id": "a32ad9cf",
   "metadata": {},
   "outputs": [
    {
     "name": "stdout",
     "output_type": "stream",
     "text": [
      "Enter elements of a list separated by space Travelling Listening \n",
      "What is your Name?Sanjeev Banmala\n",
      "Your DOB in format ‘mm/dd/yy’31/12/1997\n",
      "Your DOB in correct format ‘mm/dd/yy’12/31/1997\n",
      "Your Age24\n",
      "{'name': 'Sanjeev Banmala', 'dob': '12/31/1997', 'age': '24', 'hobbies': ['Travelling', 'Listening']}\n",
      "DO you want to start again no\n",
      "Thank you\n"
     ]
    }
   ],
   "source": [
    "from datetime import datetime\n",
    "import json\n",
    "def write_file():\n",
    "    format = \"%m/%d/%Y\"\n",
    "    hobbies = input('Enter elements of a list separated by space ')\n",
    "    user_list = hobbies.split()\n",
    "    name= input(\"What is your Name?\")\n",
    "    if any(char.isdigit() for char in name):\n",
    "        print(\"Please do not include digits in your name.\")\n",
    "        name= input(\"What is your Name?\")\n",
    "    dob= input(\"Your DOB in format ‘mm/dd/yy’\")\n",
    "    # checking if format matches the date\n",
    "    res = True\n",
    "    # using try-except to check for truth value\n",
    "    try:\n",
    "        res = bool(datetime.strptime(dob, format))\n",
    "    except ValueError:\n",
    "        res = False\n",
    "    if(res==False):\n",
    "        dob= input(\"Your DOB in correct format ‘mm/dd/yy’\")\n",
    "        \n",
    "    age = input(\"Your Age\")\n",
    "    dictionary={\n",
    "        \"name\" : name,\n",
    "        \"dob\" : dob,\n",
    "        \"age\" : age,\n",
    "        \"hobbies\" : user_list\n",
    "    }\n",
    "    print(dictionary)\n",
    "    yn=input(\"DO you want to start again \")\n",
    "    if (yn==\"yes\"):\n",
    "        write_file()\n",
    "    else:\n",
    "        print(\"Thank you\")\n",
    "    with open(\"samples.json\", \"w\") as outfile:\n",
    "        json.dump(dictionary, outfile)\n",
    "\n",
    "write_file()"
   ]
  },
  {
   "cell_type": "markdown",
   "id": "b7ac176a",
   "metadata": {},
   "source": [
    "###  3. Question 3: A bracket is considered to be any one of the following characters: (, ), {, }, [, or ].\n"
   ]
  },
  {
   "cell_type": "code",
   "execution_count": 7,
   "id": "18e5a531",
   "metadata": {},
   "outputs": [
    {
     "name": "stdout",
     "output_type": "stream",
     "text": [
      "Enter Brackets(){}[]:[[[[]]]]\n",
      "Balanced\n"
     ]
    }
   ],
   "source": [
    "# function to check if brackets are balanced\n",
    "def areBracketsBalanced(expr):\n",
    "    stack = []\n",
    " \n",
    "    # Traversing the Expression\n",
    "    for char in expr:\n",
    "        if char in [\"(\", \"{\", \"[\"]:\n",
    " \n",
    "            # Push the element in the stack\n",
    "            stack.append(char)\n",
    "        else:\n",
    " \n",
    "            # IF current character is not opening\n",
    "            # bracket, then it must be closing.\n",
    "            # So stack cannot be empty at this point.\n",
    "            if not stack:\n",
    "                return False\n",
    "            current_char = stack.pop()\n",
    "            if current_char == '(':\n",
    "                if char != \")\":\n",
    "                    return False\n",
    "            if current_char == '{':\n",
    "                if char != \"}\":\n",
    "                    return False\n",
    "            if current_char == '[':\n",
    "                if char != \"]\":\n",
    "                    return False\n",
    " \n",
    "    # Check Empty Stack\n",
    "    if stack:\n",
    "        return False\n",
    "    return True\n",
    " \n",
    " \n",
    "# Driver Code\n",
    "if __name__ == \"__main__\":\n",
    "    expr = input(\"Enter Brackets(){}[]:\")\n",
    " \n",
    "    # Function call\n",
    "    if areBracketsBalanced(expr):\n",
    "        print(\"Balanced\")\n",
    "    else:\n",
    "        print(\"Not Balanced\")"
   ]
  },
  {
   "cell_type": "markdown",
   "id": "9b52f167",
   "metadata": {},
   "source": [
    "## 4. Question 4  :A left rotation operation on an integer array shifts each of the array's elements unit to the left. For example,  if 2 left rotations are performed on array [1,2,3,4,5] , then the array would become [3,4,5,1,2]\n"
   ]
  },
  {
   "cell_type": "code",
   "execution_count": 31,
   "id": "bbdee036",
   "metadata": {},
   "outputs": [],
   "source": [
    "def rotateLeft(arr, num_rotate, n):\n",
    "    for i in range(num_rotate):\n",
    "        temp = arr[0]\n",
    "        for j in range(n-1):\n",
    "            arr[j] = arr[j+1]\n",
    "        arr[n-1] = temp\n",
    "    return arr\n"
   ]
  },
  {
   "cell_type": "code",
   "execution_count": 34,
   "id": "707cf1b4",
   "metadata": {},
   "outputs": [
    {
     "name": "stdout",
     "output_type": "stream",
     "text": [
      "Enter the list you want1 2 3 4 5\n",
      "How many rotations to perform?2\n",
      "[3, 4, 5, 1, 2]\n"
     ]
    }
   ],
   "source": [
    "array_List = input(\"Enter the list you want\")\n",
    "user_list = array_List.split()\n",
    "for i in range(len(user_list)):\n",
    "    # convert each item to int type\n",
    "    user_list[i] = int(user_list[i])\n",
    "num_rotate =input (\"How many rotations to perform?\")\n",
    "num = int(num_rotate)\n",
    "result = rotateLeft(user_list, num, len(user_list))\n",
    "print(result)"
   ]
  },
  {
   "cell_type": "markdown",
   "id": "8e36bff0",
   "metadata": {},
   "source": [
    "# Python Assignment Part 2"
   ]
  },
  {
   "cell_type": "markdown",
   "id": "37cbeb35",
   "metadata": {},
   "source": [
    "## 1. Create generator with and without comprehension for getting multiples of given number upto 10."
   ]
  },
  {
   "cell_type": "code",
   "execution_count": 35,
   "id": "1ad2eee3",
   "metadata": {},
   "outputs": [
    {
     "name": "stdout",
     "output_type": "stream",
     "text": [
      "5 10 15 20 25 30 35 40 45 50 "
     ]
    },
    {
     "data": {
      "text/plain": [
       "<generator object multiples at 0x0000023E6BBA7900>"
      ]
     },
     "execution_count": 35,
     "metadata": {},
     "output_type": "execute_result"
    }
   ],
   "source": [
    "# creating a generator without comprehension\n",
    "def multiples(m):\n",
    "    i=1\n",
    "    while(i<=11):\n",
    "        yield i*m\n",
    "        i+=1\n",
    "        if(i>=11): \n",
    "            return\n",
    "\n",
    "\n",
    "a=multiples(5)\n",
    "for x in a:\n",
    "    print(x , end =\" \")\n",
    "a # checking that it is a generator object"
   ]
  },
  {
   "cell_type": "code",
   "execution_count": 36,
   "id": "88b07def",
   "metadata": {},
   "outputs": [
    {
     "name": "stdout",
     "output_type": "stream",
     "text": [
      "5 10 15 20 25 30 35 40 45 50 "
     ]
    },
    {
     "data": {
      "text/plain": [
       "<generator object multiplec.<locals>.<genexpr> at 0x0000023E6BC5D6D0>"
      ]
     },
     "execution_count": 36,
     "metadata": {},
     "output_type": "execute_result"
    }
   ],
   "source": [
    "# creating a generator with comprehension\n",
    "def multiplec(m):\n",
    "    return (x*m for x in range(1,11))\n",
    "for i in multiplec(5):\n",
    "    print(i, end = \" \")\n",
    "multiplec(5) # checking that it is a generator object"
   ]
  },
  {
   "cell_type": "markdown",
   "id": "21e37eaf",
   "metadata": {},
   "source": [
    "# 2. Create a scenario where the following errors are handled:\n",
    "a. Custom Error implemented using class\n",
    "\n",
    "b. Custom Error using Exception or BaseException class using message to handle at least two of the cases.\n",
    "\n",
    "c. The full-fledged case for exception handling using try, except, else, finally"
   ]
  },
  {
   "cell_type": "code",
   "execution_count": 37,
   "id": "cc6fddea",
   "metadata": {},
   "outputs": [
    {
     "name": "stdout",
     "output_type": "stream",
     "text": [
      "calling str\n"
     ]
    },
    {
     "ename": "CustomError",
     "evalue": "CustomError, We have a problem ",
     "output_type": "error",
     "traceback": [
      "\u001b[1;31m---------------------------------------------------------------------------\u001b[0m",
      "\u001b[1;31mCustomError\u001b[0m                               Traceback (most recent call last)",
      "\u001b[1;32m<ipython-input-37-5948cacc3ab1>\u001b[0m in \u001b[0;36m<module>\u001b[1;34m\u001b[0m\n\u001b[0;32m     16\u001b[0m \u001b[1;33m\u001b[0m\u001b[0m\n\u001b[0;32m     17\u001b[0m \u001b[1;33m\u001b[0m\u001b[0m\n\u001b[1;32m---> 18\u001b[1;33m \u001b[1;32mraise\u001b[0m \u001b[0mCustomError\u001b[0m\u001b[1;33m(\u001b[0m\u001b[1;34m'We have a problem'\u001b[0m\u001b[1;33m)\u001b[0m\u001b[1;33m\u001b[0m\u001b[1;33m\u001b[0m\u001b[0m\n\u001b[0m",
      "\u001b[1;31mCustomError\u001b[0m: CustomError, We have a problem "
     ]
    },
    {
     "name": "stdout",
     "output_type": "stream",
     "text": [
      "calling str\n",
      "calling str\n"
     ]
    }
   ],
   "source": [
    "# Custom Error implemented using class\n",
    "class CustomError(Exception):\n",
    "    def __init__(self, *args):\n",
    "        if args:\n",
    "            self.message = args[0]\n",
    "        else:\n",
    "            self.message = None\n",
    "\n",
    "    def __str__(self):\n",
    "        print('calling str')\n",
    "        if self.message:\n",
    "            return 'CustomError, {0} '.format(self.message)\n",
    "        else:\n",
    "            return 'CustomError has been raised'\n",
    "\n",
    "\n",
    "\n",
    "raise CustomError('We have a problem')"
   ]
  },
  {
   "cell_type": "code",
   "execution_count": 38,
   "id": "7d713dfd",
   "metadata": {},
   "outputs": [
    {
     "name": "stdout",
     "output_type": "stream",
     "text": [
      "Enter the year of Birth 20\n",
      "The age is not within the range. You cannot apply for the exams\n"
     ]
    }
   ],
   "source": [
    "#Custom Error using Exception or BaseException class using message to handle at least two of the cases.\n",
    "class Error(Exception):\n",
    "    pass\n",
    "\n",
    "class dobException(Error):\n",
    "    pass\n",
    "\n",
    "class customgeneric(Error):\n",
    "    pass\n",
    "year=int(input(\"Enter the year of Birth \"))\n",
    "age=2021-year\n",
    "try:\n",
    "    if age<=30 & age>20:\n",
    "        print(\"The age is valid. You can apply for the exams\")\n",
    "    else:\n",
    "        raise dobException\n",
    "except dobException:\n",
    "    print(\"The age is not within the range. You cannot apply for the exams\")"
   ]
  },
  {
   "cell_type": "code",
   "execution_count": 39,
   "id": "30741bf9",
   "metadata": {},
   "outputs": [
    {
     "name": "stdout",
     "output_type": "stream",
     "text": [
      "Enter the number 1 1\n",
      "Enter the number 2 0\n",
      "Please provide number greater than 0\n",
      "The execution is done\n"
     ]
    }
   ],
   "source": [
    "#The full-fledged case for exception handling using try, except, else, finally\n",
    "try:\n",
    "    ##code block where exception can occur\n",
    "    a=int(input(\"Enter the number 1 \"))\n",
    "    b=int(input(\"Enter the number 2 \"))\n",
    "    c=a/b\n",
    "    \n",
    "except NameError:\n",
    "    print(\"The user have not defined the variable\")\n",
    "except ZeroDivisionError:\n",
    "    print(\"Please provide number greater than 0\")\n",
    "except TypeError:\n",
    "    print(\"Try to make the datatype similar\")\n",
    "except Exception as ex:\n",
    "    print(ex)\n",
    "else:\n",
    "    print(c)\n",
    "finally:\n",
    "    print(\"The execution is done\")"
   ]
  },
  {
   "cell_type": "markdown",
   "id": "1ce280b9",
   "metadata": {},
   "source": [
    "## 3. Create at least 4 classes having semantic meaning (having relation to each other) so that multiple inheritance can be achieved and incorporating the following things in some of them:\n",
    "@classmethod @staticmethod @property and setter for it Class_variable"
   ]
  },
  {
   "cell_type": "code",
   "execution_count": 40,
   "id": "4e2acac5",
   "metadata": {},
   "outputs": [
    {
     "name": "stdout",
     "output_type": "stream",
     "text": [
      "San model is 2\n",
      "False\n",
      "4\n"
     ]
    }
   ],
   "source": [
    "class Car():\n",
    "    def __init__(self, name, model):\n",
    "        self.name = name\n",
    "        self.model = model\n",
    "    def __str__(dsf):\n",
    "        return f\"{dsf.name} model is {dsf.model}\"\n",
    "    @classmethod \n",
    "    def Benz(cls, string):\n",
    "        name,model = string.split(',')\n",
    "        model=int(model)\n",
    "        return cls(name,model)\n",
    "class Bike():\n",
    "    def __init__(self, name, model):\n",
    "        self.name = name\n",
    "        self.model = model\n",
    "    @staticmethod\n",
    "    def isSuperBike(model):\n",
    "        return model>10\n",
    "class Bus():\n",
    "    def __init__(self, name, model):\n",
    "        self.name = name\n",
    "        self.model = model\n",
    "    def set_model(self, value):\n",
    "        self._model = value\n",
    "class Truck():\n",
    "    def __init__(self, name=\"Eicher\", model=10):\n",
    "        self.name = name\n",
    "        self.model = model\n",
    "    @property\n",
    "    def model(self):\n",
    "        return self._model\n",
    "    @model.setter\n",
    "    def model(self, value):\n",
    "        self._model = value\n",
    "class Plane():\n",
    "    def Indigo(self):\n",
    "        print(\" This is a Indigo plane \")\n",
    "class Transport(Car,Bike,Bus,Truck,Plane):\n",
    "    def Main(self):\n",
    "        print(\"This is the Main Class\")\n",
    "B=Transport(\"san\",22)\n",
    "print(B.Benz(\"San,2\"))\n",
    "print(B.isSuperBike(2))\n",
    "B.set_model(4)\n",
    "print(B.model)"
   ]
  },
  {
   "cell_type": "markdown",
   "id": "d8d81717",
   "metadata": {},
   "source": [
    "## 4. Create a class for complex number implementing all the arithmetic operations and relational operations related dunder methods. Eg. __add__, __iadd__, __mult__, __eq__, __lt__, …\n"
   ]
  },
  {
   "cell_type": "code",
   "execution_count": 41,
   "id": "4990db6d",
   "metadata": {},
   "outputs": [],
   "source": [
    "class Number():\n",
    "    def __init__(self, n1):\n",
    "        self.n1 = n1\n",
    "    #dunder method for add\n",
    "    def __add__(self, other):\n",
    "        return self.n1 + other.n1\n",
    "    def __mult__(self, other):\n",
    "        return self.n1 + other.n1 + other.n1\n",
    "    def __iadd__(self, other):\n",
    "        self.n1 = self + other\n",
    "        return self.n1\n",
    "    def __eq__(self, other):\n",
    "        return self.n1 == other.n1\n",
    "    def __lt__(self, other):\n",
    "        n1=self.n1*12\n",
    "        n2=other.n1*12\n",
    "        if n1<n2:\n",
    "            return \"first object smaller than other\"\n",
    "        else:\n",
    "            return \"first object not smaller than other\""
   ]
  },
  {
   "cell_type": "code",
   "execution_count": 42,
   "id": "93860911",
   "metadata": {},
   "outputs": [],
   "source": [
    "x = Number(1)\n",
    "y = Number(2)"
   ]
  },
  {
   "cell_type": "code",
   "execution_count": 43,
   "id": "bc9c2f7b",
   "metadata": {},
   "outputs": [
    {
     "name": "stdout",
     "output_type": "stream",
     "text": [
      "3\n",
      "5\n",
      "3\n",
      "False\n",
      "first object smaller than other\n"
     ]
    }
   ],
   "source": [
    "print(x+y)\n",
    "print(x.__mult__(y))\n",
    "print(x.__iadd__(y))\n",
    "print(x.__eq__(y))\n",
    "print(y.__lt__(x))"
   ]
  },
  {
   "cell_type": "markdown",
   "id": "2a4c2827",
   "metadata": {},
   "source": [
    "## 5. Create a Class representing the clone behavior of lists in python.\n",
    "a.Eg. List(“1234”) works same as list(“1234”)\n",
    "b. Adding 2 lists, multiple ways of instantiating using @classmethod\n"
   ]
  },
  {
   "cell_type": "code",
   "execution_count": 111,
   "id": "c3656b56",
   "metadata": {},
   "outputs": [],
   "source": [
    "#cloning list\n",
    "class clone():\n",
    "    def __init__(self, l1):\n",
    "        self.l1 = l1\n",
    "    def Cloning(self):\n",
    "        li_copy = self.l1[:]\n",
    "        print(\"Original List:\", self.l1)\n",
    "        print(\"After Cloning:\", li_copy)\n",
    "\n",
    "    "
   ]
  },
  {
   "cell_type": "code",
   "execution_count": 112,
   "id": "39b7eba5",
   "metadata": {},
   "outputs": [
    {
     "name": "stdout",
     "output_type": "stream",
     "text": [
      "Original List: [4, 8, 2, 10, 15, 18]\n",
      "After Cloning: [4, 8, 2, 10, 15, 18]\n"
     ]
    }
   ],
   "source": [
    "copy= clone([4, 8, 2, 10, 15, 18])\n",
    "copy.Cloning()"
   ]
  },
  {
   "cell_type": "code",
   "execution_count": 113,
   "id": "4432f745",
   "metadata": {},
   "outputs": [
    {
     "name": "stdout",
     "output_type": "stream",
     "text": [
      "['1', '2', '3', '4', 1, 2, 3, 4]\n",
      "['1', '2', '3', '4', 1, 2, 3, 4]\n"
     ]
    }
   ],
   "source": [
    "# adding two lists using @classmethod\n",
    "class List:\n",
    "    def __init__(self, word):\n",
    "        self.lst = '['\n",
    "        for i in range(len(word)-1):\n",
    "            self.lst = self.lst + \"'\" + word[i] + \"'\" + \", \"\n",
    "        self.lst = self.lst + \"'\" + word[-1] + \"'\"  + ']'\n",
    "    \n",
    "    def __str__(self):\n",
    "        return self.lst\n",
    "    \n",
    "    def __add__(self, other):\n",
    "        try:\n",
    "            return (self.lst[:-1] + ', ' + other.lst[1:])\n",
    "        except:\n",
    "            return (self.lst[:-1] + ', ' + other[1:])\n",
    "        \n",
    "    \n",
    "    @classmethod\n",
    "    def makeList(self, word):\n",
    "        if str(word)[0] != '[':\n",
    "            raise ValueError()\n",
    "        if str(word)[-1] != ']':\n",
    "            raise ValueError()\n",
    "        self.lst = str(word)\n",
    "        return self.lst\n",
    "    \n",
    "\n",
    "\n",
    "a = List(\"1234\") + List.makeList([1,2,3,4])\n",
    "print(a)\n",
    "\n",
    "b = list(\"1234\") + [1,2,3,4]\n",
    "print(b)"
   ]
  },
  {
   "cell_type": "markdown",
   "id": "da344d6d",
   "metadata": {},
   "source": [
    "## 6. Replicate the behaviour of range() object using :\n",
    "a. Iterator class, __iter__ and __next__\n"
   ]
  },
  {
   "cell_type": "code",
   "execution_count": 95,
   "id": "da53e033",
   "metadata": {},
   "outputs": [
    {
     "name": "stdout",
     "output_type": "stream",
     "text": [
      "1\n",
      "2\n",
      "4\n",
      "8\n"
     ]
    }
   ],
   "source": [
    "class PowTwo:\n",
    "    \"\"\"Class to implement an iterator\n",
    "    of powers of two\"\"\"\n",
    "\n",
    "    def __init__(self, max=0):\n",
    "        self.max = max\n",
    "\n",
    "    def __iter__(self):\n",
    "        self.n = 0\n",
    "        return self\n",
    "\n",
    "    def __next__(self):\n",
    "        if self.n <= self.max:\n",
    "            result = 2 ** self.n\n",
    "            self.n += 1\n",
    "            return result\n",
    "        else:\n",
    "            raise StopIteration\n",
    "\n",
    "\n",
    "# create an object\n",
    "numbers = PowTwo(3)\n",
    "\n",
    "# create an iterable from the object\n",
    "i = iter(numbers)\n",
    "\n",
    "# Using next to get to the next iterator element\n",
    "print(next(i))\n",
    "print(next(i))\n",
    "print(next(i))\n",
    "print(next(i))"
   ]
  },
  {
   "cell_type": "markdown",
   "id": "c8aa940c",
   "metadata": {},
   "source": [
    "b. Generator"
   ]
  },
  {
   "cell_type": "code",
   "execution_count": 102,
   "id": "b7beafa2",
   "metadata": {},
   "outputs": [
    {
     "name": "stdout",
     "output_type": "stream",
     "text": [
      "1 2 3 4 5 6 7 8 9 10 "
     ]
    }
   ],
   "source": [
    "def sequence():\n",
    "    num = 1\n",
    "    while num<=10:\n",
    "        yield num\n",
    "        num += 1\n",
    "it=infinite_sequence()\n",
    "for i in it:\n",
    "    print(i, end = \" \")"
   ]
  },
  {
   "cell_type": "markdown",
   "id": "16730b21",
   "metadata": {},
   "source": [
    "c. Generator comprehension"
   ]
  },
  {
   "cell_type": "code",
   "execution_count": 109,
   "id": "6c336015",
   "metadata": {},
   "outputs": [
    {
     "name": "stdout",
     "output_type": "stream",
     "text": [
      "5 10 15 20 25 30 35 40 45 50 "
     ]
    },
    {
     "data": {
      "text/plain": [
       "<generator object multiplec.<locals>.<genexpr> at 0x0000023E6BC9A270>"
      ]
     },
     "execution_count": 109,
     "metadata": {},
     "output_type": "execute_result"
    }
   ],
   "source": [
    "# creating a generator with comprehension\n",
    "def multiplec(m):\n",
    "    return (x*m for x in range(1,11))\n",
    "for i in multiplec(5):\n",
    "    print(i, end = \" \")\n",
    "multiplec(5) # checking that it is a generator object\n"
   ]
  },
  {
   "cell_type": "markdown",
   "id": "e067835a",
   "metadata": {},
   "source": [
    "# Python Assignment Part 3\n"
   ]
  },
  {
   "cell_type": "markdown",
   "id": "38eb3b18",
   "metadata": {},
   "source": [
    " Create a connection to a postgres database using psycopg2\n",
    "- Create a table named 'users'\n",
    "    -- columns -> id, name, dob, profession\n",
    "- Create table names `address`\n",
    "    -- Columns -> id, user_id (FK -> users), permanent_address, temporary_address\n",
    "- Insert dummy data in the tables using psycopg connection\n",
    "- Fetch data from the joined users and address table \n",
    "    -- given user_id\n",
    "    -- given profession and permanent_address\n",
    "- Update table users and add column gender\n",
    "- Delete records from user whose age is less than 20 yrs\n"
   ]
  },
  {
   "cell_type": "code",
   "execution_count": 2,
   "id": "59815995",
   "metadata": {},
   "outputs": [],
   "source": [
    "import psycopg2"
   ]
  },
  {
   "cell_type": "code",
   "execution_count": 11,
   "id": "74217e8c",
   "metadata": {},
   "outputs": [],
   "source": [
    "try:\n",
    "    connection = psycopg2.connect(\n",
    "      host = \"localhost\",\n",
    "      database = \"weekend_assignment\",\n",
    "      user =\"postgres\",\n",
    "      password =\"password\",\n",
    "      port =5432\n",
    ")\n",
    "    cursor = connection.cursor()\n",
    "    # query for creating doctor_specialization table\n",
    "    create_user = '''\n",
    "      CREATE TABLE IF NOT EXISTS users(\n",
    "          id INT PRIMARY KEY,\n",
    "          name VARCHAR(100) NOT NULL,\n",
    "          dob date NOT NULL,\n",
    "          profession VARCHAR(100) NOT NULL\n",
    "      )\n",
    "    '''\n",
    "    create_address = '''\n",
    "      CREATE TABLE IF NOT EXISTS address(\n",
    "          id INT PRIMARY KEY,\n",
    "          user_id INT NOT NULL,\n",
    "          permanent_address VARCHAR(100) NOT NULL,\n",
    "          temporary_address VARCHAR(100), \n",
    "          FOREIGN KEY  (user_id) REFERENCES users(id)\n",
    "      )\n",
    "    '''\n",
    "    insert_user ='''\n",
    "      INSERT INTO users\n",
    "      Values(1,'Sanjeev Banmala','2017-03-14','Data Engineer'),\n",
    "      (2,'Sanjeev Thapa','2017-03-14','Data Scientist'),\n",
    "      (3,'Sanjeev Magar','2017-03-14','Data Mechanic')\n",
    "    \n",
    "    '''\n",
    "    insert_address = '''\n",
    "       INSERT INTO address\n",
    "      Values(1,' 2','Kamalbinayak,Bhaktapur',NULL),\n",
    "      (2,'1','Dillibazar,Kathmandu',NULL),\n",
    "      (3,'3','Naxal,Kathmandu','Itahari')\n",
    "    '''\n",
    "    select_user='''\n",
    "        select u.name,u.profession,a.permanent_address\n",
    "        from users u\n",
    "        inner join address a on u.id = a.user_id\n",
    "    '''\n",
    "    update_user='''\n",
    "        alter table users add column gender char(1)\n",
    "    '''\n",
    "    delete_user_foreign='''\n",
    "        DELETE FROM address WHERE user_id IN (SELECT id FROM users where EXTRACT(YEAR from AGE(dob))<20)\n",
    "    '''\n",
    "    delete_user='''\n",
    "        delete from users where EXTRACT(YEAR from AGE(dob))<20\n",
    "    '''\n",
    "\n",
    "    #cursor.execute(create_user)\n",
    "    #cursor.execute(create_address)\n",
    "    #cursor.execute(insert_user)\n",
    "    #cursor.execute(insert_address)\n",
    "    #cursor.execute(select_user)\n",
    "    #print(cursor.fetchall())\n",
    "    #cursor.execute(update_user)\n",
    "    cursor.execute(delete_user_foreign)\n",
    "    cursor.execute(delete_user)\n",
    "    connection.commit()\n",
    "    \n",
    "       \n",
    "except Exception as e:\n",
    "    print('AN error has occured', e)\n",
    "finally:\n",
    "    cursor.close()\n",
    "    connection.close()\n",
    "\n",
    "    \n",
    "    \n"
   ]
  },
  {
   "cell_type": "code",
   "execution_count": null,
   "id": "1dddcb0a",
   "metadata": {},
   "outputs": [],
   "source": []
  }
 ],
 "metadata": {
  "kernelspec": {
   "display_name": "Python 3",
   "language": "python",
   "name": "python3"
  },
  "language_info": {
   "codemirror_mode": {
    "name": "ipython",
    "version": 3
   },
   "file_extension": ".py",
   "mimetype": "text/x-python",
   "name": "python",
   "nbconvert_exporter": "python",
   "pygments_lexer": "ipython3",
   "version": "3.8.8"
  }
 },
 "nbformat": 4,
 "nbformat_minor": 5
}
